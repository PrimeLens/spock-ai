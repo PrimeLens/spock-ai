{
 "cells": [
  {
   "cell_type": "code",
   "execution_count": 1,
   "metadata": {},
   "outputs": [],
   "source": [
    "from datasets import load_dataset, DatasetDict"
   ]
  },
  {
   "attachments": {},
   "cell_type": "markdown",
   "metadata": {},
   "source": [
    "  ## Parameters & Setup"
   ]
  },
  {
   "cell_type": "code",
   "execution_count": 2,
   "metadata": {},
   "outputs": [],
   "source": [
    "#setup our logging level and file\n",
    "import logging    \n",
    "logger = logging.getLogger(__name__)\n",
    "logger.setLevel(logging.INFO)\n",
    "\n",
    "# Configure the logger if it hasn't been configured before\n",
    "if not logger.handlers:\n",
    "    handler = logging.FileHandler('training.log')\n",
    "    handler.setLevel(logging.INFO)\n",
    "    formatter = logging.Formatter('%(asctime)s - %(levelname)s - %(message)s')\n",
    "    handler.setFormatter(formatter)\n",
    "    logger.addHandler(handler)\n",
    "\n"
   ]
  },
  {
   "cell_type": "code",
   "execution_count": 3,
   "metadata": {},
   "outputs": [
    {
     "data": {
      "application/vnd.jupyter.widget-view+json": {
       "model_id": "6ebc1a297b8f485890e9d5c88a7c4b58",
       "version_major": 2,
       "version_minor": 0
      },
      "text/plain": [
       "Downloading shards:   0%|          | 0/8 [00:00<?, ?it/s]"
      ]
     },
     "metadata": {},
     "output_type": "display_data"
    },
    {
     "data": {
      "application/vnd.jupyter.widget-view+json": {
       "model_id": "26971e64cf154a00bcd5daeb473d99cb",
       "version_major": 2,
       "version_minor": 0
      },
      "text/plain": [
       "model-00001-of-00008.safetensors:   0%|          | 0.00/1.89G [00:00<?, ?B/s]"
      ]
     },
     "metadata": {},
     "output_type": "display_data"
    },
    {
     "data": {
      "application/vnd.jupyter.widget-view+json": {
       "model_id": "6756f070ce814894bb933557f30ed9bc",
       "version_major": 2,
       "version_minor": 0
      },
      "text/plain": [
       "model-00002-of-00008.safetensors:   0%|          | 0.00/1.95G [00:00<?, ?B/s]"
      ]
     },
     "metadata": {},
     "output_type": "display_data"
    },
    {
     "data": {
      "application/vnd.jupyter.widget-view+json": {
       "model_id": "7316aedd95964defa30ab503605c831a",
       "version_major": 2,
       "version_minor": 0
      },
      "text/plain": [
       "model-00003-of-00008.safetensors:   0%|          | 0.00/1.98G [00:00<?, ?B/s]"
      ]
     },
     "metadata": {},
     "output_type": "display_data"
    },
    {
     "data": {
      "application/vnd.jupyter.widget-view+json": {
       "model_id": "c1fe4c087edd445996641947e641e0d2",
       "version_major": 2,
       "version_minor": 0
      },
      "text/plain": [
       "model-00004-of-00008.safetensors:   0%|          | 0.00/1.95G [00:00<?, ?B/s]"
      ]
     },
     "metadata": {},
     "output_type": "display_data"
    },
    {
     "data": {
      "application/vnd.jupyter.widget-view+json": {
       "model_id": "a0190bb2448c4eebac19f3f12bc647e5",
       "version_major": 2,
       "version_minor": 0
      },
      "text/plain": [
       "model-00005-of-00008.safetensors:   0%|          | 0.00/1.98G [00:00<?, ?B/s]"
      ]
     },
     "metadata": {},
     "output_type": "display_data"
    },
    {
     "data": {
      "application/vnd.jupyter.widget-view+json": {
       "model_id": "c0c3155f3bd74f6b8bb3eb4fb2b1373b",
       "version_major": 2,
       "version_minor": 0
      },
      "text/plain": [
       "model-00006-of-00008.safetensors:   0%|          | 0.00/1.95G [00:00<?, ?B/s]"
      ]
     },
     "metadata": {},
     "output_type": "display_data"
    },
    {
     "data": {
      "application/vnd.jupyter.widget-view+json": {
       "model_id": "4e9d1d63461a4e86a688768e1d53fbc7",
       "version_major": 2,
       "version_minor": 0
      },
      "text/plain": [
       "model-00007-of-00008.safetensors:   0%|          | 0.00/1.98G [00:00<?, ?B/s]"
      ]
     },
     "metadata": {},
     "output_type": "display_data"
    },
    {
     "data": {
      "application/vnd.jupyter.widget-view+json": {
       "model_id": "ddf70203604047739576b9e7f707f26d",
       "version_major": 2,
       "version_minor": 0
      },
      "text/plain": [
       "model-00008-of-00008.safetensors:   0%|          | 0.00/816M [00:00<?, ?B/s]"
      ]
     },
     "metadata": {},
     "output_type": "display_data"
    },
    {
     "data": {
      "application/vnd.jupyter.widget-view+json": {
       "model_id": "1b9706bd511c4dd8afaee9ddc066419b",
       "version_major": 2,
       "version_minor": 0
      },
      "text/plain": [
       "Loading checkpoint shards:   0%|          | 0/8 [00:00<?, ?it/s]"
      ]
     },
     "metadata": {},
     "output_type": "display_data"
    },
    {
     "data": {
      "application/vnd.jupyter.widget-view+json": {
       "model_id": "85025fa3e0ae476cac0cbc16b9667d02",
       "version_major": 2,
       "version_minor": 0
      },
      "text/plain": [
       "generation_config.json:   0%|          | 0.00/111 [00:00<?, ?B/s]"
      ]
     },
     "metadata": {},
     "output_type": "display_data"
    },
    {
     "name": "stdout",
     "output_type": "stream",
     "text": [
      "The model HuggingFaceH4/zephyr-7b-beta is available in the Hugging Face model hub.\n"
     ]
    }
   ],
   "source": [
    "dataset_path='omgbobbyg/spock'\n",
    "from transformers import AutoTokenizer, AutoModelForPreTraining, AutoModelForCausalLM\n",
    "\n",
    "# mobilebert\n",
    "# NO AutoModelForCausalLM\n",
    "# YES AutoModelForPreTraining\n",
    "# https://huggingface.co/google/mobilebert-uncased\n",
    "# pretrained_model = \"google/mobilebert-uncased\"\n",
    "\n",
    "# tinybert\n",
    "# YES AutoModelForCausalLM\n",
    "# YES AutoModelForPreTraining\n",
    "# https://huggingface.co/huawei-noah/TinyBERT_General_4L_312D\n",
    "# pretrained_model = \"huawei-noah/TinyBERT_General_4L_312D\"\n",
    "\n",
    "# gemma-7b  RESTRICTED\n",
    "# NO AutoModelForCausalLM\n",
    "# NO AutoModelForPreTraining\n",
    "# https://huggingface.co/google/gemma-7b\n",
    "# pretrained_model = \"google/gemma-7b\"\n",
    "\n",
    "# zephyr-7b-beta\n",
    "# YES AutoModelForCausalLM\n",
    "# NO AutoModelForPreTraining\n",
    "# https://huggingface.co/HuggingFaceH4/zephyr-7b-beta\n",
    "pretrained_model = \"HuggingFaceH4/zephyr-7b-beta\"\n",
    "\n",
    "# TinyLlama\n",
    "# YES AutoModelForCausalLM\n",
    "# ? AutoModelForPreTraining\n",
    "# https://huggingface.co/TinyLlama/TinyLlama-1.1B-Chat-v1.0\n",
    "# pretrained_model = \"TinyLlama/TinyLlama-1.1B-Chat-v1.0\"\n",
    "\n",
    "\n",
    "finetuned_modelname = \"zephyr-spock\"\n",
    "huggingface_username = \"PrimeLens\"\n",
    "huggingface_reponame = f\"{huggingface_username}/{finetuned_modelname}\"  \n",
    "\n",
    "try:    \n",
    "    model = AutoModelForCausalLM.from_pretrained(pretrained_model)\n",
    "    # model = AutoModelForPreTraining.from_pretrained(pretrained_model)\n",
    "    print(f\"The model {pretrained_model} is available in the Hugging Face model hub.\")\n",
    "except Exception as e:\n",
    "    print(f\"The model {pretrained_model} is not available in the Hugging Face model hub.\")\n",
    "    print(f\"Error message: {str(e)}\")\n",
    "    "
   ]
  },
  {
   "cell_type": "code",
   "execution_count": 4,
   "metadata": {},
   "outputs": [
    {
     "name": "stdout",
     "output_type": "stream",
     "text": [
      "No GPU available for notebook\n"
     ]
    },
    {
     "data": {
      "text/plain": [
       "109"
      ]
     },
     "execution_count": 4,
     "metadata": {},
     "output_type": "execute_result"
    }
   ],
   "source": [
    "#setup parameters regarding GPU availibility on the machine and recycle used memory\n",
    "import torch; \n",
    "import gc;\n",
    "\n",
    "is_gpu_available = torch.cuda.is_available()\n",
    "device = 'cuda' if is_gpu_available else 'cpu'\n",
    "if is_gpu_available:\n",
    "    print(\"GPU available for notebook\")\n",
    "    torch.cuda.empty_cache()\n",
    "    print(\"GPU Memory cleaned\")\n",
    "else:\n",
    "    print(\"No GPU available for notebook\")\n",
    "    \n",
    "gc.collect()\n"
   ]
  },
  {
   "attachments": {},
   "cell_type": "markdown",
   "metadata": {},
   "source": [
    "## Dataset"
   ]
  },
  {
   "cell_type": "code",
   "execution_count": 5,
   "metadata": {},
   "outputs": [
    {
     "name": "stdout",
     "output_type": "stream",
     "text": [
      "DatasetDict({\n",
      "    train: Dataset({\n",
      "        features: ['title', 'original_airdate', 'production_number', 'dialogue'],\n",
      "        num_rows: 3476\n",
      "    })\n",
      "    validation: Dataset({\n",
      "        features: ['title', 'original_airdate', 'production_number', 'dialogue'],\n",
      "        num_rows: 869\n",
      "    })\n",
      "})\n"
     ]
    }
   ],
   "source": [
    "dataset  = load_dataset(dataset_path)\n",
    "print(dataset)"
   ]
  },
  {
   "cell_type": "markdown",
   "metadata": {},
   "source": [
    "  ## Tokenization"
   ]
  },
  {
   "cell_type": "code",
   "execution_count": null,
   "metadata": {},
   "outputs": [
    {
     "data": {
      "application/vnd.jupyter.widget-view+json": {
       "model_id": "88417f6f93b64612ae3589bf17bf53e1",
       "version_major": 2,
       "version_minor": 0
      },
      "text/plain": [
       "tokenizer_config.json:   0%|          | 0.00/1.43k [00:00<?, ?B/s]"
      ]
     },
     "metadata": {},
     "output_type": "display_data"
    },
    {
     "data": {
      "application/vnd.jupyter.widget-view+json": {
       "model_id": "39978e7ef29f4e27aa440941dbbe17c2",
       "version_major": 2,
       "version_minor": 0
      },
      "text/plain": [
       "tokenizer.model:   0%|          | 0.00/493k [00:00<?, ?B/s]"
      ]
     },
     "metadata": {},
     "output_type": "display_data"
    },
    {
     "data": {
      "application/vnd.jupyter.widget-view+json": {
       "model_id": "67668129ce7d48728260671c029f7134",
       "version_major": 2,
       "version_minor": 0
      },
      "text/plain": [
       "tokenizer.json:   0%|          | 0.00/1.80M [00:00<?, ?B/s]"
      ]
     },
     "metadata": {},
     "output_type": "display_data"
    },
    {
     "data": {
      "application/vnd.jupyter.widget-view+json": {
       "model_id": "89b411ef990e463a9f8e45943f132ead",
       "version_major": 2,
       "version_minor": 0
      },
      "text/plain": [
       "added_tokens.json:   0%|          | 0.00/42.0 [00:00<?, ?B/s]"
      ]
     },
     "metadata": {},
     "output_type": "display_data"
    },
    {
     "data": {
      "application/vnd.jupyter.widget-view+json": {
       "model_id": "447f411ac9ba4307864639a3718d7c13",
       "version_major": 2,
       "version_minor": 0
      },
      "text/plain": [
       "special_tokens_map.json:   0%|          | 0.00/168 [00:00<?, ?B/s]"
      ]
     },
     "metadata": {},
     "output_type": "display_data"
    },
    {
     "data": {
      "application/vnd.jupyter.widget-view+json": {
       "model_id": "b2bc9c81ce264c548f8a437eb446f69b",
       "version_major": 2,
       "version_minor": 0
      },
      "text/plain": [
       "Loading checkpoint shards:   0%|          | 0/8 [00:00<?, ?it/s]"
      ]
     },
     "metadata": {},
     "output_type": "display_data"
    }
   ],
   "source": [
    "\n",
    "# Load model directly\n",
    "from transformers import AutoTokenizer, AutoModelForPreTraining\n",
    "\n",
    "tokenizer = AutoTokenizer.from_pretrained(pretrained_model)\n",
    "\n",
    "from transformers import AutoTokenizer, AutoConfig\n",
    "\n",
    "model = AutoModelForCausalLM.from_pretrained(pretrained_model)\n",
    "\n",
    "# Get the maximum context size\n",
    "max_length = model.config.max_position_embeddings\n",
    "print(f\"Maximum context size: {max_length}\")\n",
    "\n"
   ]
  },
  {
   "cell_type": "code",
   "execution_count": null,
   "metadata": {},
   "outputs": [],
   "source": [
    "from transformers import GPT2Tokenizer\n",
    "tokenizer = AutoTokenizer.from_pretrained(pretrained_model)\n",
    "\n",
    "def tokenize_function(examples):\n",
    "    return tokenizer(examples[\"dialogue\"],max_length=max_length)\n",
    "\n",
    "\n",
    "# Apply the tokenization function to the entire dataset\n",
    "tokenized_dataset = dataset.map(\n",
    "    tokenize_function,\n",
    "    batched=True,\n",
    "    batch_size=10,\n",
    "    remove_columns=dataset[\"train\"].column_names\n",
    ")\n",
    "\n",
    "\n"
   ]
  },
  {
   "cell_type": "code",
   "execution_count": null,
   "metadata": {},
   "outputs": [],
   "source": [
    "sample_token = tokenizer.encode(\"Live long and prosper.\")\n",
    "print(sample_token)"
   ]
  },
  {
   "attachments": {},
   "cell_type": "markdown",
   "metadata": {},
   "source": [
    "## Data Collator"
   ]
  },
  {
   "cell_type": "code",
   "execution_count": null,
   "metadata": {},
   "outputs": [],
   "source": [
    "#We need to create data collator to manage the batches, we can use DataCollatorForLanguageModeling\n",
    "from transformers import DataCollatorForLanguageModeling\n",
    "tokenizer.pad_token =\"<pad>\" #tokenizer.eos_token\n",
    "data_collator = DataCollatorForLanguageModeling(tokenizer,mlm=False)\n",
    "# Iterate over the generator\n",
    "out = data_collator([tokenized_dataset[\"train\"][i] for i in range(1)])\n",
    "for key in out:\n",
    "    print(f\"{key} shape: {out[key].shape}\")\n",
    "\n"
   ]
  },
  {
   "attachments": {},
   "cell_type": "markdown",
   "metadata": {},
   "source": [
    "## Setup the Trainer"
   ]
  },
  {
   "cell_type": "code",
   "execution_count": null,
   "metadata": {},
   "outputs": [],
   "source": [
    "#Now we train the model using the Trainer API\n",
    "from transformers import Trainer, TrainingArguments\n",
    "\n",
    "args = TrainingArguments(\n",
    "    finetuned_modelname,\n",
    "    evaluation_strategy=\"epoch\",\n",
    "    save_strategy=\"epoch\",\n",
    "    learning_rate=2e-5,\n",
    "    num_train_epochs=3,\n",
    "    weight_decay=0.01,\n",
    "    fp16=is_gpu_available,\n",
    "    push_to_hub=True,\n",
    "    per_device_train_batch_size=4,\n",
    "    per_device_eval_batch_size=4,\n",
    "    hub_model_id=huggingface_reponame\n",
    ")\n",
    "\n",
    "trainer = Trainer(\n",
    "    model=model,\n",
    "    tokenizer=tokenizer,\n",
    "    args=args,\n",
    "    data_collator=data_collator,\n",
    "    train_dataset=tokenized_dataset[\"train\"],\n",
    "    eval_dataset=tokenized_dataset[\"validation\"]\n",
    ")"
   ]
  },
  {
   "attachments": {},
   "cell_type": "markdown",
   "metadata": {},
   "source": [
    "## Evaluate the Performance of the Base Model"
   ]
  },
  {
   "cell_type": "code",
   "execution_count": null,
   "metadata": {},
   "outputs": [],
   "source": [
    "import math\n",
    "\n",
    "#Calculate and report on perplexity\n",
    "initial_results = trainer.evaluate()\n",
    "print(initial_results)\n",
    "#log the results to file\n",
    "logger.info(f\"Baseline {pretrained_model} Results: Perplexity: {math.exp(initial_results['eval_loss']):.2f}\")\n",
    "print(f\"Baseline {pretrained_model} Results: Perplexity: {math.exp(initial_results['eval_loss']):.2f}\")\n"
   ]
  },
  {
   "cell_type": "code",
   "execution_count": null,
   "metadata": {},
   "outputs": [],
   "source": [
    "#setup our test prompts\n",
    "test_prompt = \"What is the meaning of life?\"\n",
    "test_prompt2 = \"Where did that planet go??\"\n",
    "test_prompt3 = \"What is the best way to cook a turkey?\""
   ]
  },
  {
   "cell_type": "code",
   "execution_count": null,
   "metadata": {},
   "outputs": [],
   "source": [
    "#Use the model in a pipeline to generate text.\n",
    "from transformers import pipeline\n",
    "text_generator = pipeline(\"text-generation\", model=model, tokenizer=tokenizer, device=device)\n",
    "\n",
    "\n",
    "result = text_generator(test_prompt, max_length=100, num_return_sequences=1,temperature=1)\n",
    "print(f\"Baseline {pretrained_model} generated result: {test_prompt}...{result[0]['generated_text']}\")\n",
    "logger.info(f\"Baseline {pretrained_model} generated result: {test_prompt}...{result[0]['generated_text']}\")"
   ]
  },
  {
   "cell_type": "code",
   "execution_count": null,
   "metadata": {},
   "outputs": [],
   "source": [
    "result = text_generator(test_prompt2, max_length=100, num_return_sequences=1,temperature=1)\n",
    "print(f\"Baseline {pretrained_model} generated result: {test_prompt2}...{result[0]['generated_text']}\")\n",
    "logger.info(f\"Baseline {pretrained_model} generated result: {test_prompt2}...{result[0]['generated_text']}\")"
   ]
  },
  {
   "cell_type": "code",
   "execution_count": null,
   "metadata": {},
   "outputs": [],
   "source": [
    "result = text_generator(test_prompt3, max_length=100, num_return_sequences=1,temperature=1)\n",
    "print(f\"Baseline {pretrained_model} generated result: {test_prompt3}...{result[0]['generated_text']}\")\n",
    "logger.info(f\"Baseline {pretrained_model} generated result: {test_prompt3}...{result[0]['generated_text']}\")"
   ]
  },
  {
   "attachments": {},
   "cell_type": "markdown",
   "metadata": {},
   "source": [
    "## Fine-Tune the Model"
   ]
  },
  {
   "cell_type": "code",
   "execution_count": null,
   "metadata": {},
   "outputs": [],
   "source": [
    "trainer.train()"
   ]
  },
  {
   "attachments": {},
   "cell_type": "markdown",
   "metadata": {},
   "source": [
    "## Evaluate the Performance of the Fine-Tuned Model"
   ]
  },
  {
   "cell_type": "code",
   "execution_count": null,
   "metadata": {},
   "outputs": [],
   "source": [
    "#Calculate and report on perplexity\n",
    "eval_results = trainer.evaluate()\n",
    "perplexity = math.exp(eval_results['eval_loss'])\n",
    "eval_results['perplexity'] = perplexity\n",
    "\n",
    "logger.info(f\"Fine-tuned {finetuned_modelname} Results: Perplexity: {perplexity:.2f}\")\n",
    "print(f\"Fine-tuned {finetuned_modelname} Results: Perplexity: {perplexity:.2f}\")\n",
    "\n"
   ]
  },
  {
   "cell_type": "code",
   "execution_count": null,
   "metadata": {},
   "outputs": [],
   "source": [
    "#Prompt Test 1\n",
    "text_generator = pipeline(\"text-generation\", model=model, tokenizer=tokenizer, device=device)\n",
    "result = text_generator(test_prompt, max_length=100, num_return_sequences=1,temperature=0.7)\n",
    "print(f\"Fine-tuned {finetuned_modelname} generated result: {test_prompt}...{result[0]['generated_text']}\")\n",
    "logger.info(f\"Fine-tuned {finetuned_modelname} generated result: {test_prompt}...{result[0]['generated_text']}\")"
   ]
  },
  {
   "cell_type": "code",
   "execution_count": null,
   "metadata": {},
   "outputs": [],
   "source": [
    "#Prompt Test 2\n",
    "result = text_generator(test_prompt2, max_length=100, num_return_sequences=1,temperature=1)\n",
    "print(f\"Fine-tuned {finetuned_modelname} generated result: {test_prompt2}...{result[0]['generated_text']}\")\n",
    "logger.info(f\"Fine-tuned {finetuned_modelname} generated result: {test_prompt2}...{result[0]['generated_text']}\")"
   ]
  },
  {
   "cell_type": "code",
   "execution_count": null,
   "metadata": {},
   "outputs": [],
   "source": [
    "#Prompt Test 3\n",
    "result = text_generator(test_prompt3, max_length=100, num_return_sequences=1,temperature=1)\n",
    "print(f\"Fine-tuned {finetuned_modelname} generated result: {test_prompt3}...{result[0]['generated_text']}\")\n",
    "logger.info(f\"Fine-tuned {finetuned_modelname} generated result: {test_prompt3}...{result[0]['generated_text']}\")"
   ]
  }
 ],
 "metadata": {
  "kernelspec": {
   "display_name": "Python 3 (ipykernel)",
   "language": "python",
   "name": "python3"
  },
  "language_info": {
   "codemirror_mode": {
    "name": "ipython",
    "version": 3
   },
   "file_extension": ".py",
   "mimetype": "text/x-python",
   "name": "python",
   "nbconvert_exporter": "python",
   "pygments_lexer": "ipython3",
   "version": "3.12.2"
  },
  "vscode": {
   "interpreter": {
    "hash": "36b514b738acff4061330311a03dff86b1232f3a413278e3b727ffbc7c44120f"
   }
  }
 },
 "nbformat": 4,
 "nbformat_minor": 4
}
